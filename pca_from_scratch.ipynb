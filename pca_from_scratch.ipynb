{
 "cells": [
  {
   "cell_type": "markdown",
   "metadata": {},
   "source": [
    "PCA = Principal Component Analysis = dimensionality reduction\n",
    "\n",
    "For a physicist PCA is just like fitting an ellipse centered at some centroid (the arithmetic mean) and examining major axes of that ellipse. So to get this centroid we need to subtract the mean of the data from each data vector. \n",
    "\n",
    "\n",
    "$$ \\hat{x} = \\frac{1}{N} \\sum{\\vec{x_i}}$$ \n",
    "\n",
    "Centred data matrix := $\\hat{X}$\n",
    "\n",
    "$$ \\hat{X} = DATA~Matrix - Mean $$\n",
    "\n",
    "\n",
    "The next step is to calculate the covariance matrix of the centered data matrix. \n",
    "Then calculate the eigendecomposition of the covariance matrix -> results in a list of eigenvalues and a list of eigenvectors (eigenvectors of $ \\hat{X}^{T} \\hat{X} ~ / (N-1) ~ or ~ (N) $ )\n",
    "\n",
    "\n",
    "Finally, if there are eigenvalues close to zero, they represent components that may be discarded.\n"
   ]
  },
  {
   "cell_type": "code",
   "execution_count": 1,
   "metadata": {},
   "outputs": [],
   "source": [
    "from numpy import array\n",
    "from numpy import mean\n",
    "from numpy import cov\n",
    "from numpy.linalg import eig\n",
    "from numpy import dot\n",
    "from numpy import random\n",
    "from numpy import sqrt\n",
    "import matplotlib.pyplot as pyplot"
   ]
  },
  {
   "cell_type": "markdown",
   "metadata": {},
   "source": [
    "Let's start with something simple, first of all we need some data to showcase PCA"
   ]
  },
  {
   "cell_type": "code",
   "execution_count": 2,
   "metadata": {},
   "outputs": [],
   "source": [
    "random_state = random.RandomState(1)\n",
    "number_of_points = 500\n",
    "X = dot(random_state.rand(2, 2), random_state.randn(2, number_of_points)).T"
   ]
  },
  {
   "cell_type": "code",
   "execution_count": 3,
   "metadata": {},
   "outputs": [
    {
     "data": {
      "text/plain": [
       "<matplotlib.collections.PathCollection at 0x11ba9bac8>"
      ]
     },
     "execution_count": 3,
     "metadata": {},
     "output_type": "execute_result"
    },
    {
     "data": {
      "image/png": "[encoded data removed]",
      "text/plain": [
       "<Figure size 432x288 with 1 Axes>"
      ]
     },
     "metadata": {},
     "output_type": "display_data"
    }
   ],
   "source": [
    "pyplot.scatter(X[:, 0], X[:, 1])"
   ]
  },
  {
   "cell_type": "code",
   "execution_count": 4,
   "metadata": {},
   "outputs": [],
   "source": [
    "# so we have two columns (two features), 500 examples\n",
    "# this is a very limited example as in real-life in general we have large numbers of dimensions \n",
    "# but let's just go with this exampe to make things extremely simple"
   ]
  },
  {
   "cell_type": "markdown",
   "metadata": {},
   "source": [
    "First of all, we need mean values of each column and center the values"
   ]
  },
  {
   "cell_type": "code",
   "execution_count": 5,
   "metadata": {},
   "outputs": [
    {
     "name": "stdout",
     "output_type": "stream",
     "text": [
      "[0.03614626 0.00675995]\n"
     ]
    }
   ],
   "source": [
    "# calculate the mean of each column\n",
    "Mean_vector = mean(X.T, axis=1)\n",
    "print(Mean_vector)"
   ]
  },
  {
   "cell_type": "code",
   "execution_count": 6,
   "metadata": {},
   "outputs": [],
   "source": [
    "# center the values"
   ]
  },
  {
   "cell_type": "code",
   "execution_count": 7,
   "metadata": {},
   "outputs": [],
   "source": [
    "# center columns by subtracting column means\n",
    "CenteredX = X - Mean_vector"
   ]
  },
  {
   "cell_type": "code",
   "execution_count": 8,
   "metadata": {},
   "outputs": [
    {
     "data": {
      "text/plain": [
       "<matplotlib.collections.PathCollection at 0x11bb10eb8>"
      ]
     },
     "execution_count": 8,
     "metadata": {},
     "output_type": "execute_result"
    },
    {
     "data": {
      "image/png": "[encoded data removed]",
      "text/plain": [
       "<Figure size 432x288 with 1 Axes>"
      ]
     },
     "metadata": {},
     "output_type": "display_data"
    }
   ],
   "source": [
    "pyplot.scatter(CenteredX[:, 0], CenteredX[:, 1])"
   ]
  },
  {
   "cell_type": "code",
   "execution_count": 9,
   "metadata": {},
   "outputs": [],
   "source": [
    "# now we can calculate the covariance matrix\n",
    "CovMatrix = cov(CenteredX.T)"
   ]
  },
  {
   "cell_type": "code",
   "execution_count": 10,
   "metadata": {},
   "outputs": [
    {
     "name": "stdout",
     "output_type": "stream",
     "text": [
      "[[0.68254944 0.2115691 ]\n",
      " [0.2115691  0.08732276]]\n"
     ]
    }
   ],
   "source": [
    "print(CovMatrix)"
   ]
  },
  {
   "cell_type": "code",
   "execution_count": 11,
   "metadata": {},
   "outputs": [],
   "source": [
    "CovMatrix2 = dot(CenteredX.T, CenteredX) /(number_of_points-1) #in numpy N-1 is the default "
   ]
  },
  {
   "cell_type": "code",
   "execution_count": 12,
   "metadata": {},
   "outputs": [
    {
     "name": "stdout",
     "output_type": "stream",
     "text": [
      "[[0.68254944 0.2115691 ]\n",
      " [0.2115691  0.08732276]]\n"
     ]
    }
   ],
   "source": [
    "print(CovMatrix2)"
   ]
  },
  {
   "cell_type": "code",
   "execution_count": 13,
   "metadata": {},
   "outputs": [],
   "source": [
    "# make eigendecomposition of covariance matrix\n",
    "values, vectors = eig(CovMatrix)"
   ]
  },
  {
   "cell_type": "code",
   "execution_count": 14,
   "metadata": {},
   "outputs": [
    {
     "name": "stdout",
     "output_type": "stream",
     "text": [
      "[[ 0.95263898 -0.30410356]\n",
      " [ 0.30410356  0.95263898]]\n"
     ]
    }
   ],
   "source": [
    "print(vectors)"
   ]
  },
  {
   "cell_type": "code",
   "execution_count": 15,
   "metadata": {},
   "outputs": [
    {
     "name": "stdout",
     "output_type": "stream",
     "text": [
      "[0.750087  0.0197852]\n"
     ]
    }
   ],
   "source": [
    "print(values)"
   ]
  },
  {
   "cell_type": "markdown",
   "metadata": {},
   "source": [
    "To see what these numbers mean, \n",
    "let's plot them as vectors over the data\n",
    "I will use \"components\" to define the direction of the vector\n",
    "and values to define the squared-length of the vector"
   ]
  },
  {
   "cell_type": "code",
   "execution_count": 16,
   "metadata": {},
   "outputs": [
    {
     "data": {
      "text/plain": [
       "(-3.028898699591075, 3.281407460187606, -1.044489047876517, 1.3179881318832734)"
      ]
     },
     "execution_count": 16,
     "metadata": {},
     "output_type": "execute_result"
    },
    {
     "data": {
      "image/png": "[encoded data removed]",
      "text/plain": [
       "<Figure size 432x288 with 1 Axes>"
      ]
     },
     "metadata": {},
     "output_type": "display_data"
    }
   ],
   "source": [
    "\n",
    "pyplot.scatter(X[:, 0], X[:, 1])\n",
    "\n",
    "for e, v in zip(values, vectors.T):\n",
    "    pyplot.plot([0, 3*sqrt(e)*v[0]], [0, 3*sqrt(e)*v[1]], 'k-', lw=3) \n",
    "                   # By multiplying sigma with 3 we cover approximately 99.7 %\n",
    "                   # of the points according to the three sigma rule \n",
    "pyplot.axis('equal')"
   ]
  },
  {
   "cell_type": "markdown",
   "metadata": {},
   "source": [
    "cool, so now you kno how PCA works, it's just like fitting a multidimension ellipse and examining major axes of that ellipse. If we see that axis is small meaning that variance is small so we can discard this component."
   ]
  },
  {
   "cell_type": "markdown",
   "metadata": {},
   "source": [
    "good explanation:: https://en.wikipedia.org/wiki/Principal_component_analysis"
   ]
  },
  {
   "cell_type": "code",
   "execution_count": null,
   "metadata": {},
   "outputs": [],
   "source": []
  }
 ],
 "metadata": {
  "kernelspec": {
   "display_name": "Python [conda env:Python3]",
   "language": "python",
   "name": "conda-env-Python3-py"
  },
  "language_info": {
   "codemirror_mode": {
    "name": "ipython",
    "version": 3
   },
   "file_extension": ".py",
   "mimetype": "text/x-python",
   "name": "python",
   "nbconvert_exporter": "python",
   "pygments_lexer": "ipython3",
   "version": "3.5.5"
  }
 },
 "nbformat": 4,
 "nbformat_minor": 2
}
